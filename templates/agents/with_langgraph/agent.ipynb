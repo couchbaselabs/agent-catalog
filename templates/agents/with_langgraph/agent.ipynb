{
 "cells": [
  {
   "cell_type": "markdown",
   "id": "d1b7f6df29204754",
   "metadata": {},
   "source": "## Setup\n"
  },
  {
   "cell_type": "code",
   "execution_count": 5,
   "id": "eb575122ff85ec49",
   "metadata": {
    "ExecuteTime": {
     "end_time": "2025-01-21T14:32:25.755189Z",
     "start_time": "2025-01-21T14:32:25.750773Z"
    }
   },
   "outputs": [
    {
     "data": {
      "text/plain": [
       "True"
      ]
     },
     "execution_count": 5,
     "metadata": {},
     "output_type": "execute_result"
    }
   ],
   "source": [
    "import dotenv\n",
    "\n",
    "dotenv.load_dotenv(dotenv.find_dotenv(usecwd=True))"
   ]
  },
  {
   "cell_type": "code",
   "execution_count": 6,
   "id": "initial_id",
   "metadata": {
    "ExecuteTime": {
     "end_time": "2025-01-21T14:32:27.237396Z",
     "start_time": "2025-01-21T14:32:27.234826Z"
    },
    "collapsed": true
   },
   "outputs": [],
   "source": [
    "import getpass\n",
    "import os\n",
    "\n",
    "\n",
    "def _set_if_undefined(var: str):\n",
    "    # if not os.environ.get(var):\n",
    "    if os.environ.get(var) is None:\n",
    "        os.environ[var] = getpass.getpass(f\"Please provide your {var}\")\n",
    "\n",
    "\n",
    "_set_if_undefined(\"OPENAI_API_KEY\")"
   ]
  },
  {
   "cell_type": "markdown",
   "id": "f6a6bd010246e2e6",
   "metadata": {},
   "source": "## Create graph"
  },
  {
   "cell_type": "markdown",
   "id": "67c3b0df53c6c5f8",
   "metadata": {},
   "source": "### Setup provider and auditor\n"
  },
  {
   "cell_type": "code",
   "execution_count": 7,
   "id": "b0e7425e7b169ceb",
   "metadata": {
    "ExecuteTime": {
     "end_time": "2025-01-21T14:32:29.402129Z",
     "start_time": "2025-01-21T14:32:28.714954Z"
    }
   },
   "outputs": [
    {
     "name": "stderr",
     "output_type": "stream",
     "text": [
      "Overwriting existing secret CB_CONN_STRING!\n",
      "Overwriting existing secret CB_USERNAME!\n",
      "Overwriting existing secret CB_PASSWORD!\n"
     ]
    }
   ],
   "source": [
    "import agentc\n",
    "\n",
    "from langchain_core.tools import tool\n",
    "from pydantic import SecretStr\n",
    "\n",
    "provider = agentc.Provider(\n",
    "    decorator=lambda t: tool(t.func),\n",
    "    secrets={\n",
    "        \"CB_CONN_STRING\": SecretStr(os.getenv(\"CB_CONN_STRING\")),\n",
    "        \"CB_USERNAME\": SecretStr(os.getenv(\"CB_USERNAME\")),\n",
    "        \"CB_PASSWORD\": SecretStr(os.getenv(\"CB_PASSWORD\")),\n",
    "    },\n",
    ")"
   ]
  },
  {
   "cell_type": "code",
   "execution_count": 8,
   "id": "24d8687086c9bcaa",
   "metadata": {
    "ExecuteTime": {
     "end_time": "2025-01-21T14:32:38.091575Z",
     "start_time": "2025-01-21T14:32:37.057483Z"
    }
   },
   "outputs": [],
   "source": [
    "# Initialising the auditor to track the agents' thought processes\n",
    "auditor = agentc.Auditor(agent_name=\"Sample Research Agent\")"
   ]
  },
  {
   "cell_type": "markdown",
   "id": "54e8c2d2bc7ef64",
   "metadata": {},
   "source": "### Create nodes"
  },
  {
   "cell_type": "code",
   "execution_count": 9,
   "id": "d56e6c7ef94b68c2",
   "metadata": {
    "ExecuteTime": {
     "end_time": "2025-01-21T14:32:40.433775Z",
     "start_time": "2025-01-21T14:32:39.955141Z"
    }
   },
   "outputs": [],
   "source": [
    "from agentc.langchain import audit\n",
    "from langchain_core.messages import BaseMessage\n",
    "from langchain_openai.chat_models import ChatOpenAI\n",
    "from langgraph.graph import END\n",
    "from langgraph.prebuilt import create_react_agent\n",
    "\n",
    "llm = ChatOpenAI(model=\"gpt-4o\", openai_api_key=os.environ[\"OPENAI_API_KEY\"], temperature=0)\n",
    "\n",
    "\n",
    "def get_next_node(last_message: BaseMessage, goto: str):\n",
    "    if \"FINAL ANSWER\" in last_message.content:\n",
    "        # Any agent decided the work is done\n",
    "        return END\n",
    "    return goto"
   ]
  },
  {
   "cell_type": "code",
   "execution_count": 10,
   "id": "36dddec1dc5cbf94",
   "metadata": {
    "ExecuteTime": {
     "end_time": "2025-01-21T14:32:42.528096Z",
     "start_time": "2025-01-21T14:32:42.385663Z"
    }
   },
   "outputs": [],
   "source": [
    "# Research agent and node\n",
    "research_agent = create_react_agent(\n",
    "    model=audit(llm, session=\"doc\", auditor=auditor),\n",
    "    tools=provider.get_item(name=\"web_search\", item_type=\"tool\"),\n",
    "    state_modifier=provider.get_item(name=\"sampleapp_system_instructions\", item_type=\"prompt\").prompt.render(\n",
    "        suffix=\"You can only do research. You are working with a chart generator colleague.\"\n",
    "    ),\n",
    ")"
   ]
  },
  {
   "cell_type": "code",
   "execution_count": 11,
   "id": "49b39848ebcf95d5",
   "metadata": {
    "ExecuteTime": {
     "end_time": "2025-01-21T14:32:44.847292Z",
     "start_time": "2025-01-21T14:32:44.844476Z"
    }
   },
   "outputs": [],
   "source": [
    "from langchain_core.messages import HumanMessage\n",
    "from langgraph.graph import MessagesState\n",
    "from langgraph.types import Command\n",
    "from typing import Literal\n",
    "\n",
    "\n",
    "def research_node(\n",
    "    state: MessagesState,\n",
    ") -> Command[Literal[\"chart_generator\", END]]:\n",
    "    result = research_agent.invoke(state)\n",
    "    goto = get_next_node(result[\"messages\"][-1], \"chart_generator\")\n",
    "    # wrap in a human message, as not all providers allow\n",
    "    # AI message at the last position of the input messages list\n",
    "    result[\"messages\"][-1] = HumanMessage(content=result[\"messages\"][-1].content, name=\"researcher\")\n",
    "    return Command(\n",
    "        update={\n",
    "            # share internal message history of research agent with other agents\n",
    "            \"messages\": result[\"messages\"],\n",
    "        },\n",
    "        goto=goto,\n",
    "    )"
   ]
  },
  {
   "cell_type": "code",
   "execution_count": 13,
   "id": "204063da79c472a8",
   "metadata": {
    "ExecuteTime": {
     "end_time": "2025-01-21T14:32:56.694032Z",
     "start_time": "2025-01-21T14:32:56.555695Z"
    }
   },
   "outputs": [],
   "source": [
    "chart_agent = create_react_agent(\n",
    "    model=audit(llm, session=\"doc\", auditor=auditor),\n",
    "    # tools=provider.get_tools_for(name=\"repl_tool\"),\n",
    "    tools=provider.get_item(name=\"repl_tool\", item_type=\"tool\"),\n",
    "    # state_modifier=make_system_prompt(\"You can only generate charts. You are working with a researcher colleague.\"),\n",
    "    state_modifier=provider.get_item(name=\"sampleapp_system_instructions\", item_type=\"prompt\").prompt.render(\n",
    "        suffix=\"You can only generate charts. You are working with a researcher colleague.\"\n",
    "    ),\n",
    ")"
   ]
  },
  {
   "cell_type": "code",
   "execution_count": 14,
   "id": "fd21c71c0c7d1442",
   "metadata": {
    "ExecuteTime": {
     "end_time": "2025-01-21T14:33:27.451377Z",
     "start_time": "2025-01-21T14:33:27.448440Z"
    }
   },
   "outputs": [],
   "source": [
    "def chart_node(state: MessagesState) -> Command[Literal[\"researcher\", END]]:\n",
    "    result = chart_agent.invoke(state)\n",
    "    goto = get_next_node(result[\"messages\"][-1], \"researcher\")\n",
    "    # wrap in a human message, as not all providers allow\n",
    "    # AI message at the last position of the input messages list\n",
    "    result[\"messages\"][-1] = HumanMessage(content=result[\"messages\"][-1].content, name=\"chart_generator\")\n",
    "    return Command(\n",
    "        update={\n",
    "            # share internal message history of chart agent with other agents\n",
    "            \"messages\": result[\"messages\"],\n",
    "        },\n",
    "        goto=goto,\n",
    "    )"
   ]
  },
  {
   "cell_type": "markdown",
   "id": "8434bccb9918d4e",
   "metadata": {},
   "source": "### Create graph"
  },
  {
   "cell_type": "code",
   "execution_count": 15,
   "id": "826ac8719323985c",
   "metadata": {
    "ExecuteTime": {
     "end_time": "2025-01-21T14:35:05.882672Z",
     "start_time": "2025-01-21T14:35:05.878696Z"
    }
   },
   "outputs": [],
   "source": [
    "from langgraph.graph import START\n",
    "from langgraph.graph import StateGraph\n",
    "\n",
    "workflow = StateGraph(MessagesState)\n",
    "workflow.add_node(\"researcher\", research_node)\n",
    "workflow.add_node(\"chart_generator\", chart_node)\n",
    "\n",
    "workflow.add_edge(START, \"researcher\")\n",
    "graph = workflow.compile()"
   ]
  },
  {
   "cell_type": "code",
   "execution_count": 16,
   "id": "981f9a270032c622",
   "metadata": {
    "ExecuteTime": {
     "end_time": "2025-01-21T14:35:19.974417Z",
     "start_time": "2025-01-21T14:35:16.354226Z"
    }
   },
   "outputs": [
    {
     "data": {
      "image/png": "[encoded data removed]",
      "text/plain": [
       "<IPython.core.display.Image object>"
      ]
     },
     "metadata": {},
     "output_type": "display_data"
    }
   ],
   "source": [
    "from IPython.display import Image\n",
    "from IPython.display import display\n",
    "\n",
    "display(Image(graph.get_graph().draw_mermaid_png()))"
   ]
  },
  {
   "cell_type": "markdown",
   "id": "a6edce19e0d8dcb9",
   "metadata": {},
   "source": "### Invoke agent"
  },
  {
   "cell_type": "code",
   "execution_count": 26,
   "id": "d11e6005a218026d",
   "metadata": {
    "ExecuteTime": {
     "end_time": "2025-01-21T14:44:22.303541Z",
     "start_time": "2025-01-21T14:43:40.917940Z"
    }
   },
   "outputs": [
    {
     "name": "stdout",
     "output_type": "stream",
     "text": [
      "First, get the UK's GDP over the past 5 years, then give a brief summary of it along with a pie chart. Once you make the chart, finish.\n",
      "----\n",
      "Sorry, need more steps to process this request.\n",
      "----\n",
      "First, get the UK's GDP over the past 5 years, then give a brief summary of it along with a pie chart. Once you make the chart, finish.\n",
      "----\n",
      "Sorry, need more steps to process this request.\n",
      "----\n",
      "I was in the process of gathering the UK's GDP data for the years 2018 to 2022. Here's what I found so far:\n",
      "\n",
      "- **2020**: $2,697.81 billion\n",
      "- **2021**: $3,141.51 billion\n",
      "- **2022**: $3,070.67 billion\n",
      "\n",
      "I still need to find the GDP for 2018 and 2019. Could you assist in finding this data, or should I continue searching?\n",
      "----\n",
      "First, get the UK's GDP over the past 5 years, then give a brief summary of it along with a pie chart. Once you make the chart, finish.\n",
      "----\n",
      "Sorry, need more steps to process this request.\n",
      "----\n",
      "I was in the process of gathering the UK's GDP data for the years 2018 to 2022. Here's what I found so far:\n",
      "\n",
      "- **2020**: $2,697.81 billion\n",
      "- **2021**: $3,141.51 billion\n",
      "- **2022**: $3,070.67 billion\n",
      "\n",
      "I still need to find the GDP for 2018 and 2019. Could you assist in finding this data, or should I continue searching?\n",
      "----\n",
      "Sorry, need more steps to process this request.\n",
      "----\n",
      "First, get the UK's GDP over the past 5 years, then give a brief summary of it along with a pie chart. Once you make the chart, finish.\n",
      "----\n",
      "Sorry, need more steps to process this request.\n",
      "----\n",
      "I was in the process of gathering the UK's GDP data for the years 2018 to 2022. Here's what I found so far:\n",
      "\n",
      "- **2020**: $2,697.81 billion\n",
      "- **2021**: $3,141.51 billion\n",
      "- **2022**: $3,070.67 billion\n",
      "\n",
      "I still need to find the GDP for 2018 and 2019. Could you assist in finding this data, or should I continue searching?\n",
      "----\n",
      "Sorry, need more steps to process this request.\n",
      "----\n",
      "I was unable to find the exact GDP values for the UK for the years 2018 and 2019. However, I can proceed with creating a pie chart using the data I have for 2020, 2021, and 2022. Would you like me to do that, or should I continue searching for the missing data?\n",
      "----\n",
      "First, get the UK's GDP over the past 5 years, then give a brief summary of it along with a pie chart. Once you make the chart, finish.\n",
      "----\n",
      "Sorry, need more steps to process this request.\n",
      "----\n",
      "I was in the process of gathering the UK's GDP data for the years 2018 to 2022. Here's what I found so far:\n",
      "\n",
      "- **2020**: $2,697.81 billion\n",
      "- **2021**: $3,141.51 billion\n",
      "- **2022**: $3,070.67 billion\n",
      "\n",
      "I still need to find the GDP for 2018 and 2019. Could you assist in finding this data, or should I continue searching?\n",
      "----\n",
      "Sorry, need more steps to process this request.\n",
      "----\n",
      "I was unable to find the exact GDP values for the UK for the years 2018 and 2019. However, I can proceed with creating a pie chart using the data I have for 2020, 2021, and 2022. Would you like me to do that, or should I continue searching for the missing data?\n",
      "----\n",
      "Please proceed with creating the pie chart using the available data for 2020, 2021, and 2022.\n",
      "----\n"
     ]
    },
    {
     "data": {
      "image/png": "[encoded data removed]",
      "text/plain": [
       "<Figure size 800x800 with 1 Axes>"
      ]
     },
     "metadata": {},
     "output_type": "display_data"
    },
    {
     "name": "stdout",
     "output_type": "stream",
     "text": [
      "First, get the UK's GDP over the past 5 years, then give a brief summary of it along with a pie chart. Once you make the chart, finish.\n",
      "----\n",
      "Sorry, need more steps to process this request.\n",
      "----\n",
      "I was in the process of gathering the UK's GDP data for the years 2018 to 2022. Here's what I found so far:\n",
      "\n",
      "- **2020**: $2,697.81 billion\n",
      "- **2021**: $3,141.51 billion\n",
      "- **2022**: $3,070.67 billion\n",
      "\n",
      "I still need to find the GDP for 2018 and 2019. Could you assist in finding this data, or should I continue searching?\n",
      "----\n",
      "Sorry, need more steps to process this request.\n",
      "----\n",
      "I was unable to find the exact GDP values for the UK for the years 2018 and 2019. However, I can proceed with creating a pie chart using the data I have for 2020, 2021, and 2022. Would you like me to do that, or should I continue searching for the missing data?\n",
      "----\n",
      "Please proceed with creating the pie chart using the available data for 2020, 2021, and 2022.\n",
      "----\n",
      "FINAL ANSWER\n",
      "\n",
      "Here is the pie chart representing the UK's GDP distribution for the years 2020, 2021, and 2022:\n",
      "\n",
      "- **2020**: $2,697.81 billion\n",
      "- **2021**: $3,141.51 billion\n",
      "- **2022**: $3,070.67 billion\n",
      "\n",
      "The chart visually displays the proportion of GDP for each of these years.\n",
      "----\n"
     ]
    }
   ],
   "source": [
    "events = graph.stream(\n",
    "    {\n",
    "        \"messages\": [\n",
    "            (\n",
    "                \"user\",\n",
    "                \"First, get the UK's GDP over the past 5 years, then give a brief summary of it along with a pie chart. \"\n",
    "                \"Once you make the chart, finish.\",\n",
    "            )\n",
    "        ],\n",
    "    },\n",
    "    # Maximum number of steps to take in the graph\n",
    "    {\"recursion_limit\": 10},\n",
    ")\n",
    "\n",
    "for event in events:\n",
    "    for key in event:\n",
    "        for msg in event[key][\"messages\"]:\n",
    "            if isinstance(msg, HumanMessage):\n",
    "                print(msg.content)\n",
    "                print(\"----\")"
   ]
  }
 ],
 "metadata": {
  "kernelspec": {
   "display_name": "Python 3",
   "language": "python",
   "name": "python3"
  },
  "language_info": {
   "codemirror_mode": {
    "name": "ipython",
    "version": 2
   },
   "file_extension": ".py",
   "mimetype": "text/x-python",
   "name": "python",
   "nbconvert_exporter": "python",
   "pygments_lexer": "ipython2",
   "version": "2.7.6"
  }
 },
 "nbformat": 4,
 "nbformat_minor": 5
}

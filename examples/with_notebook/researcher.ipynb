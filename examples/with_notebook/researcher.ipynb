{
 "cells": [
  {
   "cell_type": "markdown",
   "id": "3ee3c0db9958cf77",
   "metadata": {},
   "source": "Agent Catalog aims to simplify your agent application development process by i) providing a consolidated view of versioned tools and prompts used by your agents and ii) providing application traceability via logging.\n"
  },
  {
   "cell_type": "markdown",
   "id": "6d0e696b11c3132f",
   "metadata": {},
   "source": "## Setup OpenAI\n"
  },
  {
   "cell_type": "code",
   "id": "18908969ac530936",
   "metadata": {
    "ExecuteTime": {
     "end_time": "2025-04-15T19:47:22.240278Z",
     "start_time": "2025-04-15T19:47:22.230808Z"
    }
   },
   "source": [
    "import dotenv\n",
    "\n",
    "dotenv.load_dotenv(dotenv.find_dotenv(usecwd=True))"
   ],
   "outputs": [
    {
     "data": {
      "text/plain": [
       "True"
      ]
     },
     "execution_count": 1,
     "metadata": {},
     "output_type": "execute_result"
    }
   ],
   "execution_count": 1
  },
  {
   "cell_type": "code",
   "id": "965ec3df7c4638e9",
   "metadata": {
    "ExecuteTime": {
     "end_time": "2025-04-15T19:47:22.245443Z",
     "start_time": "2025-04-15T19:47:22.243511Z"
    }
   },
   "source": [
    "import getpass\n",
    "import os\n",
    "\n",
    "\n",
    "def _set_if_undefined(var: str):\n",
    "    if os.environ.get(var) is None:\n",
    "        os.environ[var] = getpass.getpass(f\"Please provide your {var}\")\n",
    "\n",
    "\n",
    "_set_if_undefined(\"OPENAI_API_KEY\")"
   ],
   "outputs": [],
   "execution_count": 2
  },
  {
   "cell_type": "code",
   "id": "3c209fe52d967be9",
   "metadata": {
    "ExecuteTime": {
     "end_time": "2025-04-15T19:47:23.643797Z",
     "start_time": "2025-04-15T19:47:22.400129Z"
    }
   },
   "source": [
    "from langchain_openai.chat_models import ChatOpenAI\n",
    "\n",
    "llm = ChatOpenAI(model=\"gpt-4o\", temperature=0)"
   ],
   "outputs": [],
   "execution_count": 3
  },
  {
   "cell_type": "markdown",
   "id": "f7892bf64d3279af",
   "metadata": {},
   "source": "## Setup Agent Catalog"
  },
  {
   "cell_type": "code",
   "id": "3aaa052aea6365fa",
   "metadata": {
    "ExecuteTime": {
     "end_time": "2025-04-15T19:47:24.251765Z",
     "start_time": "2025-04-15T19:47:23.651019Z"
    }
   },
   "source": [
    "from agentc.catalog import Catalog\n",
    "\n",
    "catalog = Catalog()\n",
    "application_span = catalog.Span(\n",
    "    name=\"My Researcher Application\",\n",
    ")"
   ],
   "outputs": [],
   "execution_count": 4
  },
  {
   "cell_type": "markdown",
   "id": "c0bd55cecd83dc38",
   "metadata": {},
   "source": "## Build Research Agent"
  },
  {
   "cell_type": "code",
   "id": "73601daf88a2a63c",
   "metadata": {
    "ExecuteTime": {
     "end_time": "2025-04-15T19:47:24.445548Z",
     "start_time": "2025-04-15T19:47:24.270523Z"
    }
   },
   "source": [
    "from agentc_langgraph.agent import ReActAgent\n",
    "from langchain_core.messages import SystemMessage\n",
    "from langgraph.graph import END\n",
    "from langgraph.types import Command\n",
    "\n",
    "\n",
    "def get_next_node(last_message, goto: str):\n",
    "    if \"FINAL ANSWER\" in last_message.content:\n",
    "        # Any agent has decided that the work is done.\n",
    "        return END\n",
    "    return goto\n",
    "\n",
    "\n",
    "class ResearchAgent(ReActAgent):\n",
    "    def __init__(self, span):\n",
    "        super().__init__(catalog=catalog, prompt_name=\"researcher_agent\", span=span, chat_model=llm)\n",
    "\n",
    "    def _invoke(self, span, state, config):\n",
    "        agent = self.create_react_agent(span)\n",
    "        result = agent.invoke(state)\n",
    "        goto = get_next_node(result[\"messages\"][-1], \"chart_generator\")\n",
    "        result[\"messages\"][-1] = SystemMessage(content=result[\"messages\"][-1].content, name=\"researcher\")\n",
    "        return Command(\n",
    "            update={\n",
    "                # share internal message history of research agent with other agents\n",
    "                \"messages\": result[\"messages\"],\n",
    "            },\n",
    "            goto=goto,\n",
    "        )"
   ],
   "outputs": [],
   "execution_count": 5
  },
  {
   "cell_type": "markdown",
   "id": "b8a932ebfaf320c",
   "metadata": {},
   "source": "## Build Charter Agent"
  },
  {
   "cell_type": "code",
   "id": "951b7b2af18149e4",
   "metadata": {
    "ExecuteTime": {
     "end_time": "2025-04-15T19:47:24.467833Z",
     "start_time": "2025-04-15T19:47:24.465475Z"
    }
   },
   "source": [
    "class CharterAgent(ReActAgent):\n",
    "    def __init__(self, span):\n",
    "        super().__init__(catalog=catalog, prompt_name=\"charter_agent\", span=span, chat_model=llm)\n",
    "\n",
    "    def _invoke(self, span, state, config):\n",
    "        agent = self.create_react_agent(span)\n",
    "        result = agent.invoke(state)\n",
    "        goto = get_next_node(result[\"messages\"][-1], \"researcher\")\n",
    "        result[\"messages\"][-1] = SystemMessage(content=result[\"messages\"][-1].content, name=\"researcher\")\n",
    "        return Command(\n",
    "            update={\n",
    "                # share internal message history of research agent with other agents\n",
    "                \"messages\": result[\"messages\"],\n",
    "            },\n",
    "            goto=goto,\n",
    "        )"
   ],
   "outputs": [],
   "execution_count": 6
  },
  {
   "cell_type": "markdown",
   "id": "a61214e142d92f2b",
   "metadata": {},
   "source": "## Build The Graph"
  },
  {
   "cell_type": "code",
   "id": "4adf7eca263c6875",
   "metadata": {
    "ExecuteTime": {
     "end_time": "2025-04-15T19:47:24.483254Z",
     "start_time": "2025-04-15T19:47:24.480765Z"
    }
   },
   "source": [
    "from agentc_langgraph.agent import State\n",
    "from agentc_langgraph.graph import GraphRunnable\n",
    "from langgraph.graph import START\n",
    "from langgraph.graph import StateGraph\n",
    "\n",
    "\n",
    "class MyResearcherApplication(GraphRunnable):\n",
    "    def __init__(self):\n",
    "        super().__init__(catalog=catalog, span=application_span)\n",
    "\n",
    "    def compile(self):\n",
    "        workflow = StateGraph(State)\n",
    "        workflow.add_node(\"researcher\", ResearchAgent(span=self.span))\n",
    "        workflow.add_node(\"chart_generator\", CharterAgent(span=self.span))\n",
    "        workflow.add_edge(START, \"researcher\")\n",
    "        return workflow.compile()\n",
    "\n",
    "\n",
    "graph = MyResearcherApplication()"
   ],
   "outputs": [],
   "execution_count": 7
  },
  {
   "cell_type": "code",
   "id": "3e3a69ccb920aa52",
   "metadata": {
    "ExecuteTime": {
     "end_time": "2025-04-15T19:47:24.858994Z",
     "start_time": "2025-04-15T19:47:24.507947Z"
    }
   },
   "source": [
    "from IPython.display import Image\n",
    "from IPython.display import display\n",
    "\n",
    "# Note: the researcher *explicitly* sends state to the chart_generator in this example.\n",
    "display(Image(graph.get_graph().draw_mermaid_png()))"
   ],
   "outputs": [
    {
     "data": {
      "image/png": "[encoded data removed]",
      "text/plain": [
       "<IPython.core.display.Image object>"
      ]
     },
     "metadata": {},
     "output_type": "display_data"
    }
   ],
   "execution_count": 8
  },
  {
   "cell_type": "markdown",
   "id": "f3cd4e55b8d6ad14",
   "metadata": {},
   "source": "## Run Our Graph"
  },
  {
   "cell_type": "code",
   "id": "3735278e9b4c17dc",
   "metadata": {
    "ExecuteTime": {
     "end_time": "2025-04-15T19:47:36.691216Z",
     "start_time": "2025-04-15T19:47:24.864609Z"
    }
   },
   "source": [
    "user_input = \"First, get the UK's GDP over the past 5 years, then give a brief summary of it along with a pie chart. Once you make the chart, finish.\"\n",
    "application_span.log(content={\"kind\": \"user\", \"value\": user_input})\n",
    "events = graph.stream(\n",
    "    {\"messages\": [(\"user\", user_input)], \"is_last_step\": False, \"previous_node\": None},\n",
    "    # Maximum number of steps to take in the graph\n",
    "    {\"recursion_limit\": 10},\n",
    ")\n",
    "\n",
    "for event in events:\n",
    "    for key in event:\n",
    "        for msg in event[key][\"messages\"]:\n",
    "            if isinstance(msg, SystemMessage):\n",
    "                print(msg.content)\n",
    "                print(\"----\")"
   ],
   "outputs": [
    {
     "name": "stdout",
     "output_type": "stream",
     "text": [
      "Sorry, need more steps to process this request.\n",
      "----\n"
     ]
    },
    {
     "name": "stderr",
     "output_type": "stream",
     "text": [
      "Python REPL can execute arbitrary code. Use with caution.\n"
     ]
    },
    {
     "data": {
      "text/plain": [
       "<Figure size 800x800 with 1 Axes>"
      ],
      "image/png": "[encoded data removed]"
     },
     "metadata": {},
     "output_type": "display_data"
    },
    {
     "name": "stdout",
     "output_type": "stream",
     "text": [
      "Sorry, need more steps to process this request.\n",
      "----\n",
      "FINAL ANSWER: The pie chart representing the UK's GDP distribution over the past five years (2019-2023) has been successfully created. The chart visually illustrates the proportion of GDP for each year, highlighting the economic changes and growth over this period.\n",
      "----\n"
     ]
    }
   ],
   "execution_count": 9
  }
 ],
 "metadata": {
  "kernelspec": {
   "display_name": "Python 3",
   "language": "python",
   "name": "python3"
  },
  "language_info": {
   "codemirror_mode": {
    "name": "ipython",
    "version": 2
   },
   "file_extension": ".py",
   "mimetype": "text/x-python",
   "name": "python",
   "nbconvert_exporter": "python",
   "pygments_lexer": "ipython2",
   "version": "2.7.6"
  }
 },
 "nbformat": 4,
 "nbformat_minor": 5
}

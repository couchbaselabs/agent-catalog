{
 "cells": [
  {
   "cell_type": "markdown",
   "id": "9c88d73d5305b095",
   "metadata": {},
   "source": [
    "## Introduction"
   ]
  },
  {
   "cell_type": "markdown",
   "id": "12cb11fca83dfe85",
   "metadata": {},
   "source": [
    "Agent Catalog aims at simplifying your agent development process at scale by providing a consolidated view of tools and prompts used by agents as well as providing traceability through a logger. The logging also helps in iteratively modifying your workflow, tool, and/or prompts to ensure the best outcome from your agentic system every time.\n",
    "\n",
    "User guide for Agent Catalog can be found [here](https://docs.google.com/document/d/1Fv-L_Hx-ljPARH5P9EN5PMS9Nu6_VOmALKtLJoPOC20/edit?usp=sharing).\n",
    "\n",
    "Documentation for Agent Catalog can be found [here](https://couchbaselabs.github.io/agent-catalog/).\n"
   ]
  },
  {
   "cell_type": "markdown",
   "id": "d1b7f6df29204754",
   "metadata": {},
   "source": [
    "## Setup\n"
   ]
  },
  {
   "cell_type": "code",
   "execution_count": 1,
   "id": "eb575122ff85ec49",
   "metadata": {
    "ExecuteTime": {
     "end_time": "2025-01-22T04:58:07.489191Z",
     "start_time": "2025-01-22T04:58:07.477561Z"
    }
   },
   "outputs": [
    {
     "data": {
      "text/plain": [
       "True"
      ]
     },
     "execution_count": 1,
     "metadata": {},
     "output_type": "execute_result"
    }
   ],
   "source": [
    "import dotenv\n",
    "\n",
    "dotenv.load_dotenv(dotenv.find_dotenv(usecwd=True))"
   ]
  },
  {
   "cell_type": "code",
   "execution_count": 2,
   "id": "initial_id",
   "metadata": {
    "ExecuteTime": {
     "end_time": "2025-01-22T04:58:19.906547Z",
     "start_time": "2025-01-22T04:58:19.904243Z"
    }
   },
   "outputs": [],
   "source": [
    "import getpass\n",
    "import os\n",
    "\n",
    "\n",
    "def _set_if_undefined(var: str):\n",
    "    if os.environ.get(var) is None:\n",
    "        os.environ[var] = getpass.getpass(f\"Please provide your {var}\")\n",
    "\n",
    "\n",
    "_set_if_undefined(\"OPENAI_API_KEY\")"
   ]
  },
  {
   "cell_type": "markdown",
   "id": "f6a6bd010246e2e6",
   "metadata": {},
   "source": [
    "## Create graph"
   ]
  },
  {
   "cell_type": "markdown",
   "id": "67c3b0df53c6c5f8",
   "metadata": {},
   "source": [
    "### Setup provider and auditor\n"
   ]
  },
  {
   "cell_type": "code",
   "execution_count": 3,
   "id": "b0e7425e7b169ceb",
   "metadata": {
    "ExecuteTime": {
     "end_time": "2025-01-22T04:58:23.290561Z",
     "start_time": "2025-01-22T04:58:21.626496Z"
    }
   },
   "outputs": [],
   "source": [
    "import agentc\n",
    "\n",
    "from langchain_core.tools import tool\n",
    "from pydantic import SecretStr\n",
    "\n",
    "provider = agentc.Provider(\n",
    "    decorator=lambda t: tool(t.func),\n",
    "    secrets={\n",
    "        \"CB_CONN_STRING\": SecretStr(os.getenv(\"CB_CONN_STRING\")),\n",
    "        \"CB_USERNAME\": SecretStr(os.getenv(\"CB_USERNAME\")),\n",
    "        \"CB_PASSWORD\": SecretStr(os.getenv(\"CB_PASSWORD\")),\n",
    "    },\n",
    ")"
   ]
  },
  {
   "cell_type": "code",
   "execution_count": 4,
   "id": "24d8687086c9bcaa",
   "metadata": {
    "ExecuteTime": {
     "end_time": "2025-01-22T04:58:24.793805Z",
     "start_time": "2025-01-22T04:58:23.926259Z"
    }
   },
   "outputs": [],
   "source": [
    "# Initialising the auditor to track the agents' thought processes\n",
    "auditor = agentc.Auditor(agent_name=\"Sample Research Agent\")"
   ]
  },
  {
   "cell_type": "markdown",
   "id": "54e8c2d2bc7ef64",
   "metadata": {},
   "source": [
    "### Create nodes"
   ]
  },
  {
   "cell_type": "code",
   "execution_count": 5,
   "id": "d56e6c7ef94b68c2",
   "metadata": {
    "ExecuteTime": {
     "end_time": "2025-01-22T04:58:26.718999Z",
     "start_time": "2025-01-22T04:58:25.791986Z"
    }
   },
   "outputs": [],
   "source": [
    "from agentc.langchain import audit\n",
    "from langchain_core.messages import BaseMessage\n",
    "from langchain_openai.chat_models import ChatOpenAI\n",
    "from langgraph.graph import END\n",
    "from langgraph.prebuilt import create_react_agent\n",
    "\n",
    "llm = ChatOpenAI(model=\"gpt-4o\", openai_api_key=os.environ[\"OPENAI_API_KEY\"], temperature=0)\n",
    "\n",
    "\n",
    "def get_next_node(last_message: BaseMessage, goto: str):\n",
    "    if \"FINAL ANSWER\" in last_message.content:\n",
    "        # Any agent decided the work is done\n",
    "        return END\n",
    "    return goto"
   ]
  },
  {
   "cell_type": "code",
   "execution_count": 6,
   "id": "ef3fd973987d232a",
   "metadata": {
    "ExecuteTime": {
     "end_time": "2025-01-22T04:58:27.581068Z",
     "start_time": "2025-01-22T04:58:27.578558Z"
    }
   },
   "outputs": [],
   "source": [
    "from langchain_core.messages import HumanMessage\n",
    "from langgraph.graph import MessagesState\n",
    "from langgraph.types import Command\n",
    "from typing import Literal"
   ]
  },
  {
   "cell_type": "markdown",
   "id": "a0f361da3040d9ec",
   "metadata": {},
   "source": [
    "#### Research agent and node"
   ]
  },
  {
   "cell_type": "code",
   "execution_count": 7,
   "id": "36dddec1dc5cbf94",
   "metadata": {
    "ExecuteTime": {
     "end_time": "2025-01-22T04:58:29.332526Z",
     "start_time": "2025-01-22T04:58:29.172215Z"
    }
   },
   "outputs": [],
   "source": [
    "research_agent = create_react_agent(\n",
    "    model=audit(llm, session=\"doc\", auditor=auditor),\n",
    "    tools=provider.get(\"tool\", name=\"web_search\"),\n",
    "    state_modifier=provider.get(\"prompt\", name=\"sampleapp_system_instructions\").prompt.render(\n",
    "        suffix=\"You can only do research. You are working with a chart generator colleague.\"\n",
    "    ),\n",
    ")"
   ]
  },
  {
   "cell_type": "code",
   "execution_count": 8,
   "id": "49b39848ebcf95d5",
   "metadata": {
    "ExecuteTime": {
     "end_time": "2025-01-22T04:58:31.041516Z",
     "start_time": "2025-01-22T04:58:31.039351Z"
    }
   },
   "outputs": [],
   "source": [
    "def research_node(\n",
    "    state: MessagesState,\n",
    ") -> Command[Literal[\"chart_generator\", END]]:\n",
    "    result = research_agent.invoke(state)\n",
    "    goto = get_next_node(result[\"messages\"][-1], \"chart_generator\")\n",
    "    result[\"messages\"][-1] = HumanMessage(content=result[\"messages\"][-1].content, name=\"researcher\")\n",
    "    return Command(\n",
    "        update={\n",
    "            # share internal message history of research agent with other agents\n",
    "            \"messages\": result[\"messages\"],\n",
    "        },\n",
    "        goto=goto,\n",
    "    )"
   ]
  },
  {
   "cell_type": "markdown",
   "id": "898bbf190accd75",
   "metadata": {},
   "source": [
    "#### Charting agent and node"
   ]
  },
  {
   "cell_type": "code",
   "execution_count": 9,
   "id": "204063da79c472a8",
   "metadata": {
    "ExecuteTime": {
     "end_time": "2025-01-22T04:58:33.560167Z",
     "start_time": "2025-01-22T04:58:33.412265Z"
    }
   },
   "outputs": [],
   "source": [
    "chart_agent = create_react_agent(\n",
    "    model=audit(llm, session=\"doc\", auditor=auditor),\n",
    "    tools=provider.get(\"tool\", name=\"repl_tool\"),\n",
    "    state_modifier=provider.get(\"prompt\", name=\"sampleapp_system_instructions\").prompt.render(\n",
    "        suffix=\"You can only generate charts. You are working with a researcher colleague.\"\n",
    "    ),\n",
    ")"
   ]
  },
  {
   "cell_type": "code",
   "execution_count": 10,
   "id": "fd21c71c0c7d1442",
   "metadata": {
    "ExecuteTime": {
     "end_time": "2025-01-22T04:58:35.654095Z",
     "start_time": "2025-01-22T04:58:35.651792Z"
    }
   },
   "outputs": [],
   "source": [
    "def chart_node(state: MessagesState) -> Command[Literal[\"researcher\", END]]:\n",
    "    result = chart_agent.invoke(state)\n",
    "    goto = get_next_node(result[\"messages\"][-1], \"researcher\")\n",
    "    result[\"messages\"][-1] = HumanMessage(content=result[\"messages\"][-1].content, name=\"chart_generator\")\n",
    "    return Command(\n",
    "        update={\n",
    "            # share internal message history of chart agent with other agents\n",
    "            \"messages\": result[\"messages\"],\n",
    "        },\n",
    "        goto=goto,\n",
    "    )"
   ]
  },
  {
   "cell_type": "markdown",
   "id": "8434bccb9918d4e",
   "metadata": {},
   "source": [
    "### Create graph"
   ]
  },
  {
   "cell_type": "code",
   "execution_count": 11,
   "id": "826ac8719323985c",
   "metadata": {
    "ExecuteTime": {
     "end_time": "2025-01-22T04:58:37.416731Z",
     "start_time": "2025-01-22T04:58:37.412948Z"
    }
   },
   "outputs": [],
   "source": [
    "from langgraph.graph import START\n",
    "from langgraph.graph import StateGraph\n",
    "\n",
    "workflow = StateGraph(MessagesState)\n",
    "workflow.add_node(\"researcher\", research_node)\n",
    "workflow.add_node(\"chart_generator\", chart_node)\n",
    "\n",
    "workflow.add_edge(START, \"researcher\")\n",
    "graph = workflow.compile()"
   ]
  },
  {
   "cell_type": "code",
   "execution_count": 12,
   "id": "981f9a270032c622",
   "metadata": {
    "ExecuteTime": {
     "end_time": "2025-01-22T04:58:39.874752Z",
     "start_time": "2025-01-22T04:58:39.342524Z"
    }
   },
   "outputs": [
    {
     "data": {
      "image/png": "[encoded data removed]",
      "text/plain": [
       "<IPython.core.display.Image object>"
      ]
     },
     "metadata": {},
     "output_type": "display_data"
    }
   ],
   "source": [
    "from IPython.display import Image\n",
    "from IPython.display import display\n",
    "\n",
    "display(Image(graph.get_graph().draw_mermaid_png()))"
   ]
  },
  {
   "cell_type": "markdown",
   "id": "a6edce19e0d8dcb9",
   "metadata": {},
   "source": [
    "### Invoke agents"
   ]
  },
  {
   "cell_type": "code",
   "execution_count": 13,
   "id": "d11e6005a218026d",
   "metadata": {
    "ExecuteTime": {
     "end_time": "2025-01-22T05:06:18.102622Z",
     "start_time": "2025-01-22T05:06:00.800900Z"
    }
   },
   "outputs": [
    {
     "name": "stdout",
     "output_type": "stream",
     "text": [
      "First, get the UK's GDP over the past 5 years, then give a brief summary of it along with a pie chart. Once you make the chart, finish.\n",
      "----\n",
      "Sorry, need more steps to process this request.\n",
      "----\n"
     ]
    },
    {
     "name": "stderr",
     "output_type": "stream",
     "text": [
      "Python REPL can execute arbitrary code. Use with caution.\n"
     ]
    },
    {
     "data": {
      "image/png": "[encoded data removed]",
      "text/plain": [
       "<Figure size 800x800 with 1 Axes>"
      ]
     },
     "metadata": {},
     "output_type": "display_data"
    },
    {
     "name": "stdout",
     "output_type": "stream",
     "text": [
      "First, get the UK's GDP over the past 5 years, then give a brief summary of it along with a pie chart. Once you make the chart, finish.\n",
      "----\n",
      "Sorry, need more steps to process this request.\n",
      "----\n",
      "FINAL ANSWER\n",
      "\n",
      "Here is a summary of the UK's GDP over the past 5 years along with a pie chart:\n",
      "\n",
      "- **2019**: $2.85 trillion\n",
      "- **2020**: $2.70 trillion\n",
      "- **2021**: $3.03 trillion\n",
      "- **2022**: $3.14 trillion\n",
      "- **2023**: $3.38 trillion\n",
      "\n",
      "The pie chart below represents the distribution of the UK's GDP from 2019 to 2023:\n",
      "\n",
      "![UK GDP Distribution (2019-2023)](attachment://uk_gdp_pie_chart.png)\n",
      "----\n"
     ]
    }
   ],
   "source": [
    "events = graph.stream(\n",
    "    {\n",
    "        \"messages\": [\n",
    "            (\n",
    "                \"user\",\n",
    "                \"First, get the UK's GDP over the past 5 years, then give a brief summary of it along with a pie chart. \"\n",
    "                \"Once you make the chart, finish.\",\n",
    "            )\n",
    "        ],\n",
    "    },\n",
    "    # Maximum number of steps to take in the graph\n",
    "    {\"recursion_limit\": 10},\n",
    ")\n",
    "\n",
    "for event in events:\n",
    "    for key in event:\n",
    "        for msg in event[key][\"messages\"]:\n",
    "            if isinstance(msg, HumanMessage):\n",
    "                print(msg.content)\n",
    "                print(\"----\")"
   ]
  }
 ],
 "metadata": {
  "kernelspec": {
   "display_name": "Python 3 (ipykernel)",
   "language": "python",
   "name": "python3"
  },
  "language_info": {
   "codemirror_mode": {
    "name": "ipython",
    "version": 3
   },
   "file_extension": ".py",
   "mimetype": "text/x-python",
   "name": "python",
   "nbconvert_exporter": "python",
   "pygments_lexer": "ipython3",
   "version": "3.12.8"
  }
 },
 "nbformat": 4,
 "nbformat_minor": 5
}

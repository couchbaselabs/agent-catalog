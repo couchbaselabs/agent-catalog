{
 "cells": [
  {
   "metadata": {},
   "cell_type": "markdown",
   "source": "## Introduction",
   "id": "9c88d73d5305b095"
  },
  {
   "metadata": {},
   "cell_type": "markdown",
   "source": [
    "Agent Catalog aims at simplifying your agent development process at scale by providing a consolidated view of tools and prompts used by agents as well as providing traceability through a logger. The logging also helps in iteratively modifying your workflow, tool, and/or prompts to ensure the best outcome from your agentic system every time.\n",
    "\n",
    "User guide for Agent Catalog can be found [here](https://docs.google.com/document/d/1Fv-L_Hx-ljPARH5P9EN5PMS9Nu6_VOmALKtLJoPOC20/edit?usp=sharing).\n",
    "\n",
    "Documentation for Agent Catalog can be found [here](https://couchbaselabs.github.io/agent-catalog/).\n"
   ],
   "id": "12cb11fca83dfe85"
  },
  {
   "cell_type": "markdown",
   "id": "d1b7f6df29204754",
   "metadata": {},
   "source": "## Setup\n"
  },
  {
   "cell_type": "code",
   "id": "eb575122ff85ec49",
   "metadata": {
    "ExecuteTime": {
     "end_time": "2025-01-22T04:58:07.489191Z",
     "start_time": "2025-01-22T04:58:07.477561Z"
    }
   },
   "source": [
    "import dotenv\n",
    "\n",
    "dotenv.load_dotenv(dotenv.find_dotenv(usecwd=True))"
   ],
   "outputs": [
    {
     "data": {
      "text/plain": [
       "True"
      ]
     },
     "execution_count": 1,
     "metadata": {},
     "output_type": "execute_result"
    }
   ],
   "execution_count": 1
  },
  {
   "cell_type": "code",
   "id": "initial_id",
   "metadata": {
    "collapsed": true,
    "ExecuteTime": {
     "end_time": "2025-01-22T04:58:19.906547Z",
     "start_time": "2025-01-22T04:58:19.904243Z"
    }
   },
   "source": [
    "import getpass\n",
    "import os\n",
    "\n",
    "\n",
    "def _set_if_undefined(var: str):\n",
    "    if os.environ.get(var) is None:\n",
    "        os.environ[var] = getpass.getpass(f\"Please provide your {var}\")\n",
    "\n",
    "\n",
    "_set_if_undefined(\"OPENAI_API_KEY\")"
   ],
   "outputs": [],
   "execution_count": 2
  },
  {
   "cell_type": "markdown",
   "id": "f6a6bd010246e2e6",
   "metadata": {},
   "source": "## Create graph"
  },
  {
   "cell_type": "markdown",
   "id": "67c3b0df53c6c5f8",
   "metadata": {},
   "source": "### Setup provider and auditor\n"
  },
  {
   "cell_type": "code",
   "id": "b0e7425e7b169ceb",
   "metadata": {
    "ExecuteTime": {
     "end_time": "2025-01-22T04:58:23.290561Z",
     "start_time": "2025-01-22T04:58:21.626496Z"
    }
   },
   "source": [
    "import agentc\n",
    "\n",
    "from langchain_core.tools import tool\n",
    "from pydantic import SecretStr\n",
    "\n",
    "provider = agentc.Provider(\n",
    "    decorator=lambda t: tool(t.func),\n",
    "    secrets={\n",
    "        \"CB_CONN_STRING\": SecretStr(os.getenv(\"CB_CONN_STRING\")),\n",
    "        \"CB_USERNAME\": SecretStr(os.getenv(\"CB_USERNAME\")),\n",
    "        \"CB_PASSWORD\": SecretStr(os.getenv(\"CB_PASSWORD\")),\n",
    "    },\n",
    ")"
   ],
   "outputs": [],
   "execution_count": 3
  },
  {
   "cell_type": "code",
   "id": "24d8687086c9bcaa",
   "metadata": {
    "ExecuteTime": {
     "end_time": "2025-01-22T04:58:24.793805Z",
     "start_time": "2025-01-22T04:58:23.926259Z"
    }
   },
   "source": [
    "# Initialising the auditor to track the agents' thought processes\n",
    "auditor = agentc.Auditor(agent_name=\"Sample Research Agent\")"
   ],
   "outputs": [],
   "execution_count": 4
  },
  {
   "cell_type": "markdown",
   "id": "54e8c2d2bc7ef64",
   "metadata": {},
   "source": "### Create nodes"
  },
  {
   "cell_type": "code",
   "id": "d56e6c7ef94b68c2",
   "metadata": {
    "ExecuteTime": {
     "end_time": "2025-01-22T04:58:26.718999Z",
     "start_time": "2025-01-22T04:58:25.791986Z"
    }
   },
   "source": [
    "from agentc.langchain import audit\n",
    "from langchain_core.messages import BaseMessage\n",
    "from langchain_openai.chat_models import ChatOpenAI\n",
    "from langgraph.graph import END\n",
    "from langgraph.prebuilt import create_react_agent\n",
    "\n",
    "llm = ChatOpenAI(model=\"gpt-4o\", openai_api_key=os.environ[\"OPENAI_API_KEY\"], temperature=0)\n",
    "\n",
    "\n",
    "def get_next_node(last_message: BaseMessage, goto: str):\n",
    "    if \"FINAL ANSWER\" in last_message.content:\n",
    "        # Any agent decided the work is done\n",
    "        return END\n",
    "    return goto"
   ],
   "outputs": [],
   "execution_count": 5
  },
  {
   "metadata": {
    "ExecuteTime": {
     "end_time": "2025-01-22T04:58:27.581068Z",
     "start_time": "2025-01-22T04:58:27.578558Z"
    }
   },
   "cell_type": "code",
   "source": [
    "from langchain_core.messages import HumanMessage\n",
    "from langgraph.graph import MessagesState\n",
    "from langgraph.types import Command\n",
    "from typing import Literal"
   ],
   "id": "ef3fd973987d232a",
   "outputs": [],
   "execution_count": 6
  },
  {
   "metadata": {},
   "cell_type": "markdown",
   "source": "#### Research agent and node",
   "id": "a0f361da3040d9ec"
  },
  {
   "cell_type": "code",
   "id": "36dddec1dc5cbf94",
   "metadata": {
    "ExecuteTime": {
     "end_time": "2025-01-22T04:58:29.332526Z",
     "start_time": "2025-01-22T04:58:29.172215Z"
    }
   },
   "source": [
    "research_agent = create_react_agent(\n",
    "    model=audit(llm, session=\"doc\", auditor=auditor),\n",
    "    tools=provider.get_item(name=\"web_search\", item_type=\"tool\"),\n",
    "    state_modifier=provider.get_item(name=\"sampleapp_system_instructions\", item_type=\"prompt\").prompt.render(\n",
    "        suffix=\"You can only do research. You are working with a chart generator colleague.\"\n",
    "    ),\n",
    ")"
   ],
   "outputs": [],
   "execution_count": 7
  },
  {
   "cell_type": "code",
   "id": "49b39848ebcf95d5",
   "metadata": {
    "ExecuteTime": {
     "end_time": "2025-01-22T04:58:31.041516Z",
     "start_time": "2025-01-22T04:58:31.039351Z"
    }
   },
   "source": [
    "def research_node(\n",
    "    state: MessagesState,\n",
    ") -> Command[Literal[\"chart_generator\", END]]:\n",
    "    result = research_agent.invoke(state)\n",
    "    goto = get_next_node(result[\"messages\"][-1], \"chart_generator\")\n",
    "    result[\"messages\"][-1] = HumanMessage(content=result[\"messages\"][-1].content, name=\"researcher\")\n",
    "    return Command(\n",
    "        update={\n",
    "            # share internal message history of research agent with other agents\n",
    "            \"messages\": result[\"messages\"],\n",
    "        },\n",
    "        goto=goto,\n",
    "    )"
   ],
   "outputs": [],
   "execution_count": 8
  },
  {
   "metadata": {},
   "cell_type": "markdown",
   "source": "#### Charting agent and node",
   "id": "898bbf190accd75"
  },
  {
   "cell_type": "code",
   "id": "204063da79c472a8",
   "metadata": {
    "ExecuteTime": {
     "end_time": "2025-01-22T04:58:33.560167Z",
     "start_time": "2025-01-22T04:58:33.412265Z"
    }
   },
   "source": [
    "chart_agent = create_react_agent(\n",
    "    model=audit(llm, session=\"doc\", auditor=auditor),\n",
    "    tools=provider.get_item(name=\"repl_tool\", item_type=\"tool\"),\n",
    "    state_modifier=provider.get_item(name=\"sampleapp_system_instructions\", item_type=\"prompt\").prompt.render(\n",
    "        suffix=\"You can only generate charts. You are working with a researcher colleague.\"\n",
    "    ),\n",
    ")"
   ],
   "outputs": [],
   "execution_count": 9
  },
  {
   "cell_type": "code",
   "id": "fd21c71c0c7d1442",
   "metadata": {
    "ExecuteTime": {
     "end_time": "2025-01-22T04:58:35.654095Z",
     "start_time": "2025-01-22T04:58:35.651792Z"
    }
   },
   "source": [
    "def chart_node(state: MessagesState) -> Command[Literal[\"researcher\", END]]:\n",
    "    result = chart_agent.invoke(state)\n",
    "    goto = get_next_node(result[\"messages\"][-1], \"researcher\")\n",
    "    result[\"messages\"][-1] = HumanMessage(content=result[\"messages\"][-1].content, name=\"chart_generator\")\n",
    "    return Command(\n",
    "        update={\n",
    "            # share internal message history of chart agent with other agents\n",
    "            \"messages\": result[\"messages\"],\n",
    "        },\n",
    "        goto=goto,\n",
    "    )"
   ],
   "outputs": [],
   "execution_count": 10
  },
  {
   "cell_type": "markdown",
   "id": "8434bccb9918d4e",
   "metadata": {},
   "source": "### Create graph"
  },
  {
   "cell_type": "code",
   "id": "826ac8719323985c",
   "metadata": {
    "ExecuteTime": {
     "end_time": "2025-01-22T04:58:37.416731Z",
     "start_time": "2025-01-22T04:58:37.412948Z"
    }
   },
   "source": [
    "from langgraph.graph import START\n",
    "from langgraph.graph import StateGraph\n",
    "\n",
    "workflow = StateGraph(MessagesState)\n",
    "workflow.add_node(\"researcher\", research_node)\n",
    "workflow.add_node(\"chart_generator\", chart_node)\n",
    "\n",
    "workflow.add_edge(START, \"researcher\")\n",
    "graph = workflow.compile()"
   ],
   "outputs": [],
   "execution_count": 11
  },
  {
   "cell_type": "code",
   "id": "981f9a270032c622",
   "metadata": {
    "ExecuteTime": {
     "end_time": "2025-01-22T04:58:39.874752Z",
     "start_time": "2025-01-22T04:58:39.342524Z"
    }
   },
   "source": [
    "from IPython.display import Image\n",
    "from IPython.display import display\n",
    "\n",
    "display(Image(graph.get_graph().draw_mermaid_png()))"
   ],
   "outputs": [
    {
     "data": {
      "image/png": "[encoded data removed]",
      "text/plain": [
       "<IPython.core.display.Image object>"
      ]
     },
     "metadata": {},
     "output_type": "display_data"
    }
   ],
   "execution_count": 12
  },
  {
   "cell_type": "markdown",
   "id": "a6edce19e0d8dcb9",
   "metadata": {},
   "source": "### Invoke agents"
  },
  {
   "cell_type": "code",
   "id": "d11e6005a218026d",
   "metadata": {
    "ExecuteTime": {
     "end_time": "2025-01-22T05:06:18.102622Z",
     "start_time": "2025-01-22T05:06:00.800900Z"
    }
   },
   "source": [
    "events = graph.stream(\n",
    "    {\n",
    "        \"messages\": [\n",
    "            (\n",
    "                \"user\",\n",
    "                \"First, get the UK's GDP over the past 5 years, then give a brief summary of it along with a pie chart. \"\n",
    "                \"Once you make the chart, finish.\",\n",
    "            )\n",
    "        ],\n",
    "    },\n",
    "    # Maximum number of steps to take in the graph\n",
    "    {\"recursion_limit\": 10},\n",
    ")\n",
    "\n",
    "for event in events:\n",
    "    for key in event:\n",
    "        for msg in event[key][\"messages\"]:\n",
    "            if isinstance(msg, HumanMessage):\n",
    "                print(msg.content)\n",
    "                print(\"----\")"
   ],
   "outputs": [
    {
     "name": "stdout",
     "output_type": "stream",
     "text": [
      "First, get the UK's GDP over the past 5 years, then give a brief summary of it along with a pie chart. Once you make the chart, finish.\n",
      "----\n",
      "Sorry, need more steps to process this request.\n",
      "----\n"
     ]
    },
    {
     "data": {
      "text/plain": [
       "<Figure size 800x800 with 1 Axes>"
      ],
      "image/png": "[encoded data removed]"
     },
     "metadata": {},
     "output_type": "display_data"
    },
    {
     "name": "stdout",
     "output_type": "stream",
     "text": [
      "First, get the UK's GDP over the past 5 years, then give a brief summary of it along with a pie chart. Once you make the chart, finish.\n",
      "----\n",
      "Sorry, need more steps to process this request.\n",
      "----\n",
      "FINAL ANSWER: The pie chart representing the UK's GDP distribution over the past five years (in trillions USD) has been successfully created. The GDP values for each year are as follows:\n",
      "\n",
      "- 2019: $2.86 trillion\n",
      "- 2020: $2.70 trillion\n",
      "- 2021: $3.14 trillion\n",
      "- 2022: $3.19 trillion\n",
      "- 2023: $3.24 trillion\n",
      "\n",
      "The chart visually illustrates the changes in GDP over these years, highlighting the economic impact of the COVID-19 pandemic in 2020 and the subsequent recovery.\n",
      "----\n"
     ]
    }
   ],
   "execution_count": 15
  }
 ],
 "metadata": {
  "kernelspec": {
   "display_name": "Python 3",
   "language": "python",
   "name": "python3"
  },
  "language_info": {
   "codemirror_mode": {
    "name": "ipython",
    "version": 2
   },
   "file_extension": ".py",
   "mimetype": "text/x-python",
   "name": "python",
   "nbconvert_exporter": "python",
   "pygments_lexer": "ipython2",
   "version": "2.7.6"
  }
 },
 "nbformat": 4,
 "nbformat_minor": 5
}
